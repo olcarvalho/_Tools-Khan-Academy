{
 "cells": [
  {
   "cell_type": "markdown",
   "metadata": {},
   "source": [
    "## Read w3resource generate exercise files"
   ]
  },
  {
   "cell_type": "code",
   "execution_count": 1,
   "metadata": {},
   "outputs": [],
   "source": [
    "import os\n",
    "import pymongo\n",
    "import re\n",
    "import sys\n",
    "import json"
   ]
  },
  {
   "cell_type": "code",
   "execution_count": 2,
   "metadata": {},
   "outputs": [],
   "source": [
    "# Set group variable\n",
    "group_id = 'Python Basic (Part -II)'\n",
    "filename_prefix = group_id.replace(\" \", \"-\").lower() + '-'"
   ]
  },
  {
   "cell_type": "code",
   "execution_count": 3,
   "metadata": {},
   "outputs": [],
   "source": [
    "# Open w3resource database\n",
    "client = pymongo.MongoClient('mongodb://localhost:27017/')\n",
    "db = client['w3resource-python']\n",
    "\n",
    "# Get group and exercises collection\n",
    "colGroups = db[\"groups-exercises\"]\n",
    "colExercises = db[\"exercises\"]"
   ]
  },
  {
   "cell_type": "code",
   "execution_count": 4,
   "metadata": {},
   "outputs": [],
   "source": [
    "# Get group header\n",
    "header = colGroups.find_one({\"_id\":group_id}, {\"_id\":0, \"header\":1})['header']\n",
    "# Get exercises\n",
    "exercises = list(colExercises.find({\"group\": group_id}).sort(\"sequence\"))"
   ]
  },
  {
   "cell_type": "code",
   "execution_count": 5,
   "metadata": {},
   "outputs": [],
   "source": [
    "# Get boilerplate and parse it\n",
    "\n",
    "# Set 'Tools' as current working directory\n",
    "os.chdir('d:\\\\Primeway\\\\Treinamento\\\\Python\\\\w3resource\\\\_Tools')\n",
    "parent_dir = os.getcwd()\n",
    "\n",
    "# Get content from bolierplate\n",
    "f = open(\"python-exercise-boilerplate.ipynb\", \"r\")\n",
    "bp_content = f.read()\n",
    "\n",
    "bp_content = json.loads(bp_content)\n",
    "# print(json.dumps(bp_content, indent=4))\n",
    "\n",
    "os.chdir('..\\\\')"
   ]
  },
  {
   "cell_type": "code",
   "execution_count": 6,
   "metadata": {},
   "outputs": [],
   "source": [
    "# Create group folder\n",
    "\n",
    "# Set 'w3resource' as current working directory\n",
    "parent_dir = os.getcwd()\n",
    "\n",
    "# # Path\n",
    "path = os.path.join(parent_dir, group_id)\n",
    "\n",
    "# Create the directory\n",
    "if not os.path.isdir(path):\n",
    "   os.mkdir(path)"
   ]
  },
  {
   "cell_type": "code",
   "execution_count": 7,
   "metadata": {},
   "outputs": [],
   "source": [
    "# Mount exercise file content\n",
    "\n",
    "def mount_exercise(content):\n",
    "\n",
    "   # Populate file dictionary with exercise data\n",
    "   filedata = { \"cells\": [] }\n",
    "\n",
    "   # Add statement\n",
    "   filedata[\"cells\"].append({\n",
    "      \"cell_type\": \"markdown\",\n",
    "      \"source\": [ \n",
    "         \"### \" + str(content['sequence']) + '. ' + content['statement'],\n",
    "         content['solution_url']\n",
    "      ]\n",
    "   })\n",
    "   # Add instructions\n",
    "   filedata[\"cells\"].append({\n",
    "      \"cell_type\": \"markdown\",\n",
    "      \"source\": [ content['instructions'] ]\n",
    "   })\n",
    "   # Add empty code cell\n",
    "   filedata[\"cells\"].append({\n",
    "      \"cell_type\": \"code\",\n",
    "      \"metadata\": {},\n",
    "      \"source\": [ \"# Exercise solution\", \"\" ]\n",
    "   })\n",
    "   # Add empty cell (separator)\n",
    "   filedata[\"cells\"].append({\n",
    "      \"cell_type\": \"markdown\",\n",
    "      \"source\": [ '<br>'*25 ]\n",
    "   })\n",
    "   # Add solution cells\n",
    "   filedata[\"cells\"].append({\n",
    "      \"cell_type\": \"markdown\",\n",
    "      \"source\": [ \"### w3resource solution:\" ]\n",
    "   })\n",
    "   filedata[\"cells\"].append({\n",
    "      \"cell_type\": \"code\",\n",
    "      \"metadata\": {},\n",
    "      \"source\": [ content['solution'] ]\n",
    "   })\n",
    "\n",
    "   return filedata\n"
   ]
  },
  {
   "cell_type": "code",
   "execution_count": 8,
   "metadata": {},
   "outputs": [],
   "source": [
    "os.chdir(path)\n",
    "# os.getcwd()\n",
    "\n",
    "for exercise in exercises:\n",
    "\n",
    "   sequence = exercise['sequence']\n",
    "   filename = filename_prefix + str(sequence).zfill(3) + '.ipynb'\n",
    "   # print (filename)\n",
    "\n",
    "   filedata = mount_exercise(exercise)\n",
    "\n",
    "   with open(filename, \"w\") as f:\n",
    "      f.write(json.dumps(filedata, indent = 4))\n",
    "\n",
    "\n",
    "   # try:     \n",
    "   #    with open(filename, \"x\") as f:\n",
    "   #          f.write(bp_content)\n",
    "   # except:\n",
    "   #    print(f'{filename} já existe!')"
   ]
  }
 ],
 "metadata": {
  "kernelspec": {
   "display_name": "Python 3.10.5 ('env': venv)",
   "language": "python",
   "name": "python3"
  },
  "language_info": {
   "codemirror_mode": {
    "name": "ipython",
    "version": 3
   },
   "file_extension": ".py",
   "mimetype": "text/x-python",
   "name": "python",
   "nbconvert_exporter": "python",
   "pygments_lexer": "ipython3",
   "version": "3.10.5"
  },
  "orig_nbformat": 4,
  "vscode": {
   "interpreter": {
    "hash": "9add4c6002839da226ecc3062e4a9f777b3e885750cd9e17f9cc95cb2935743b"
   }
  }
 },
 "nbformat": 4,
 "nbformat_minor": 2
}
