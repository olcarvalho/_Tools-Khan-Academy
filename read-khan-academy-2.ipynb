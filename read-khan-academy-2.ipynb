{
 "cells": [
  {
   "attachments": {},
   "cell_type": "markdown",
   "metadata": {},
   "source": [
    "## Read Khan Academy Lessons Mongo Collection and generate Word Templates"
   ]
  },
  {
   "cell_type": "code",
   "execution_count": 1,
   "metadata": {},
   "outputs": [],
   "source": [
    "import os\n",
    "import pymongo\n",
    "import pandas as pd\n",
    "import re\n",
    "import docx\n",
    "from docx.shared import Pt\n",
    "from docx.shared import RGBColor\n",
    "from docx.oxml.ns import qn"
   ]
  },
  {
   "cell_type": "code",
   "execution_count": 9,
   "metadata": {},
   "outputs": [],
   "source": [
    "# Script Variables\n",
    "\n",
    "# subject = 'High school statistics'\n",
    "subject = 'Statistics and probability'\n",
    "# subject = 'AP®︎/College Statistics'\n",
    "\n",
    "# Target directory\n",
    "root_dir = 'd:\\\\Primeway\\\\Treinamento\\\\Data Science & AI\\\\Statistics'\n",
    "\n"
   ]
  },
  {
   "cell_type": "code",
   "execution_count": 16,
   "metadata": {},
   "outputs": [
    {
     "data": {
      "text/html": [
       "<div>\n",
       "<style scoped>\n",
       "    .dataframe tbody tr th:only-of-type {\n",
       "        vertical-align: middle;\n",
       "    }\n",
       "\n",
       "    .dataframe tbody tr th {\n",
       "        vertical-align: top;\n",
       "    }\n",
       "\n",
       "    .dataframe thead th {\n",
       "        text-align: right;\n",
       "    }\n",
       "</style>\n",
       "<table border=\"1\" class=\"dataframe\">\n",
       "  <thead>\n",
       "    <tr style=\"text-align: right;\">\n",
       "      <th></th>\n",
       "      <th>unit</th>\n",
       "      <th>group</th>\n",
       "      <th>lesson</th>\n",
       "    </tr>\n",
       "  </thead>\n",
       "  <tbody>\n",
       "    <tr>\n",
       "      <th>393</th>\n",
       "      <td>Unit 15: Advanced regression (inference and tr...</td>\n",
       "      <td>Nonlinear regression</td>\n",
       "      <td>Transforming nonlinear data</td>\n",
       "    </tr>\n",
       "    <tr>\n",
       "      <th>394</th>\n",
       "      <td>Unit 15: Advanced regression (inference and tr...</td>\n",
       "      <td>Nonlinear regression</td>\n",
       "      <td>Worked example of linear regression using tran...</td>\n",
       "    </tr>\n",
       "    <tr>\n",
       "      <th>395</th>\n",
       "      <td>Unit 16: Analysis of variance (ANOVA)</td>\n",
       "      <td>Analysis of variance (ANOVA)</td>\n",
       "      <td>ANOVA 1: Calculating SST (total sum of squares)</td>\n",
       "    </tr>\n",
       "    <tr>\n",
       "      <th>396</th>\n",
       "      <td>Unit 16: Analysis of variance (ANOVA)</td>\n",
       "      <td>Analysis of variance (ANOVA)</td>\n",
       "      <td>ANOVA 2: Calculating SSW and SSB (total sum of...</td>\n",
       "    </tr>\n",
       "    <tr>\n",
       "      <th>397</th>\n",
       "      <td>Unit 16: Analysis of variance (ANOVA)</td>\n",
       "      <td>Analysis of variance (ANOVA)</td>\n",
       "      <td>ANOVA 3: Hypothesis test with F-statistic</td>\n",
       "    </tr>\n",
       "  </tbody>\n",
       "</table>\n",
       "</div>"
      ],
      "text/plain": [
       "                                                  unit  \\\n",
       "393  Unit 15: Advanced regression (inference and tr...   \n",
       "394  Unit 15: Advanced regression (inference and tr...   \n",
       "395              Unit 16: Analysis of variance (ANOVA)   \n",
       "396              Unit 16: Analysis of variance (ANOVA)   \n",
       "397              Unit 16: Analysis of variance (ANOVA)   \n",
       "\n",
       "                            group  \\\n",
       "393          Nonlinear regression   \n",
       "394          Nonlinear regression   \n",
       "395  Analysis of variance (ANOVA)   \n",
       "396  Analysis of variance (ANOVA)   \n",
       "397  Analysis of variance (ANOVA)   \n",
       "\n",
       "                                                lesson  \n",
       "393                        Transforming nonlinear data  \n",
       "394  Worked example of linear regression using tran...  \n",
       "395    ANOVA 1: Calculating SST (total sum of squares)  \n",
       "396  ANOVA 2: Calculating SSW and SSB (total sum of...  \n",
       "397          ANOVA 3: Hypothesis test with F-statistic  "
      ]
     },
     "execution_count": 16,
     "metadata": {},
     "output_type": "execute_result"
    }
   ],
   "source": [
    "# Connect to MongoDB and load lessons collection into Pandas Dataframe\n",
    "\n",
    "client = pymongo.MongoClient('mongodb://localhost:27017/')\n",
    "db = client['khan-academy']\n",
    "\n",
    "query = { 'subject': subject, 'lesson_type': { \"$in\": [ \"Article\", \"Video\" ] } }\n",
    "columns = {'_id': 0, 'subject': 0, 'unit_sequence': 0, 'lesson_type': 0, 'lesson_link': 0 }\n",
    "\n",
    "lessons = db.lessons.find(query, columns)\n",
    "\n",
    "list_lessons = list(lessons)\n",
    "df = pd.DataFrame(list_lessons)\n",
    "\n",
    "df.tail()"
   ]
  },
  {
   "cell_type": "code",
   "execution_count": 31,
   "metadata": {},
   "outputs": [
    {
     "name": "stdout",
     "output_type": "stream",
     "text": [
      "1194\n"
     ]
    }
   ],
   "source": [
    "df.index\n",
    "print(df.size)"
   ]
  },
  {
   "cell_type": "code",
   "execution_count": 27,
   "metadata": {},
   "outputs": [],
   "source": [
    "# Helper Functions\n",
    "\n",
    "# Prepare Word Document\n",
    "def prepare_document(unit):\n",
    "\n",
    "   # https://python-docx.readthedocs.io/en/latest/user/styles-using.html\n",
    "\n",
    "   document = docx.Document()\n",
    "\n",
    "   # Styling the Document\n",
    "\n",
    "   # Normal\n",
    "   style_normal = document.styles['Normal']\n",
    "   style_normal.font.name = 'Calibri'\n",
    "   style_normal.font.size = Pt(11)\n",
    "\n",
    "   # Title\n",
    "   style_title = document.styles['Title']\n",
    "   style_title.font.name = 'Calibri Light'\n",
    "   style_title.font.size = Pt(28)\n",
    "   style_title.font.color.rgb = RGBColor(0x00, 0x00, 0x00)\n",
    "   # https://stackoverflow.com/questions/60921603/how-do-i-change-heading-font-face-and-size-in-python-docx\n",
    "   rFonts = style_title.element.rPr.rFonts\n",
    "   rFonts.set(qn(\"w:asciiTheme\"), \"Calibri Light\")\n",
    "\n",
    "   # Heading 1\n",
    "   style_heading1 = document.styles['Heading 1']\n",
    "   style_heading1.font.name = 'Calibri Light'\n",
    "   style_heading1.font.bold = None\n",
    "   style_heading1.font.size = Pt(16)\n",
    "   style_heading1.font.color.rgb = RGBColor(0x2F, 0x54, 0x96)\n",
    "   rFonts = style_heading1.element.rPr.rFonts\n",
    "   rFonts.set(qn(\"w:asciiTheme\"), \"Calibri Light\")\n",
    "\n",
    "   # Heading 2\n",
    "   style_heading2 = document.styles['Heading 2']\n",
    "   style_heading2.font.name = 'Calibri Light'\n",
    "   style_heading2.font.bold = None\n",
    "   style_heading2.font.size = Pt(13)\n",
    "   style_heading2.font.color.rgb = RGBColor(0x2F, 0x54, 0x96)\n",
    "   rFonts = style_heading2.element.rPr.rFonts\n",
    "   rFonts.set(qn(\"w:asciiTheme\"), \"Calibri Light\")\n",
    "\n",
    "   # Generate the document content\n",
    "\n",
    "   document.add_heading(unit, 0)\n",
    "\n",
    "   return document\n",
    "\n",
    "# Sanitize filename and save document\n",
    "def save_document(document, unit):\n",
    "   filename = re.sub(r':',\" -\", unit)\n",
    "   filename = re.sub(r'[\\\\/*?\"<>|]',\"\", filename)\n",
    "   filename = filename + '.docx'\n",
    "\n",
    "   # Check if the file exists\n",
    "   path = os.path.join(os.getcwd(), filename)\n",
    "   # print(path)\n",
    "   if not os.path.isfile(path):\n",
    "      document.save(filename)\n",
    "\n",
    "   "
   ]
  },
  {
   "cell_type": "code",
   "execution_count": 12,
   "metadata": {},
   "outputs": [
    {
     "name": "stdout",
     "output_type": "stream",
     "text": [
      "d:\\Primeway\\Treinamento\\Data Science & AI\\Statistics\\Statistics and probability\n"
     ]
    },
    {
     "data": {
      "text/plain": [
       "'d:\\\\Primeway\\\\Treinamento\\\\Data Science & AI\\\\Statistics\\\\Statistics and probability'"
      ]
     },
     "execution_count": 12,
     "metadata": {},
     "output_type": "execute_result"
    }
   ],
   "source": [
    "# Create and/or move to target directory\n",
    "\n",
    "os.chdir(root_dir)\n",
    "parent_dir = os.getcwd()\n",
    "\n",
    "path = os.path.join(parent_dir, subject)\n",
    "print(path)\n",
    "\n",
    "# Create the directory\n",
    "if not os.path.isdir(path):\n",
    "   os.mkdir(path)\n",
    "\n",
    "os.chdir(path)\n",
    "os.getcwd()\n",
    "\n"
   ]
  },
  {
   "cell_type": "code",
   "execution_count": 33,
   "metadata": {},
   "outputs": [],
   "source": [
    "# Interact through Dataframe and save doc file\n",
    "\n",
    "df_length = len(df.index)\n",
    "\n",
    "for i in df.index:\n",
    "\n",
    "    # Nem unit\n",
    "    if i == 0 or df['unit'][i] != unit:          \n",
    "        unit = df['unit'][i]\n",
    "        document = prepare_document(re.sub(r':',\" -\", unit))\n",
    "        group = ''\n",
    "\n",
    "    # New Group\n",
    "    if df['group'][i] != group: \n",
    "        if group != '':\n",
    "            document.add_page_break()\n",
    "        document.add_heading(df['group'][i], level=1)\n",
    "        document.add_paragraph('', style='Normal') \n",
    "        group = df['group'][i]\n",
    "\n",
    "    document.add_heading(\"\\t\" + df['lesson'][i], level=2)\n",
    "    document.add_paragraph('\\t', style='Normal')\n",
    "    document.add_paragraph('\\t', style='Normal')\n",
    "    document.add_paragraph('\\t', style='Normal')\n",
    "\n",
    "    if (i == df_length-1) or (df['unit'][i+1] != unit):\n",
    "        save_document(document, unit)\n"
   ]
  }
 ],
 "metadata": {
  "kernelspec": {
   "display_name": "Python 3.10.5 ('env': venv)",
   "language": "python",
   "name": "python3"
  },
  "language_info": {
   "codemirror_mode": {
    "name": "ipython",
    "version": 3
   },
   "file_extension": ".py",
   "mimetype": "text/x-python",
   "name": "python",
   "nbconvert_exporter": "python",
   "pygments_lexer": "ipython3",
   "version": "3.11.4"
  },
  "orig_nbformat": 4,
  "vscode": {
   "interpreter": {
    "hash": "9add4c6002839da226ecc3062e4a9f777b3e885750cd9e17f9cc95cb2935743b"
   }
  }
 },
 "nbformat": 4,
 "nbformat_minor": 2
}
