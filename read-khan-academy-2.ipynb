{
 "cells": [
  {
   "attachments": {},
   "cell_type": "markdown",
   "metadata": {},
   "source": [
    "## Read Khan Academy Lessons Mongo Collection and generate Word Templates"
   ]
  },
  {
   "cell_type": "code",
   "execution_count": 26,
   "metadata": {},
   "outputs": [],
   "source": [
    "import os\n",
    "import pymongo\n",
    "import pandas as pd\n",
    "import re"
   ]
  },
  {
   "cell_type": "code",
   "execution_count": 28,
   "metadata": {},
   "outputs": [],
   "source": [
    "# Script Variables\n",
    "\n",
    "subject = 'High school statistics'\n",
    "# subject = 'Statistics and probability'\n",
    "# subject = 'AP®︎/College Statistics'\n"
   ]
  },
  {
   "cell_type": "code",
   "execution_count": 73,
   "metadata": {},
   "outputs": [
    {
     "data": {
      "text/html": [
       "<div>\n",
       "<style scoped>\n",
       "    .dataframe tbody tr th:only-of-type {\n",
       "        vertical-align: middle;\n",
       "    }\n",
       "\n",
       "    .dataframe tbody tr th {\n",
       "        vertical-align: top;\n",
       "    }\n",
       "\n",
       "    .dataframe thead th {\n",
       "        text-align: right;\n",
       "    }\n",
       "</style>\n",
       "<table border=\"1\" class=\"dataframe\">\n",
       "  <thead>\n",
       "    <tr style=\"text-align: right;\">\n",
       "      <th></th>\n",
       "      <th>subject</th>\n",
       "      <th>unit</th>\n",
       "      <th>group</th>\n",
       "      <th>lesson</th>\n",
       "      <th>lesson_type</th>\n",
       "    </tr>\n",
       "  </thead>\n",
       "  <tbody>\n",
       "    <tr>\n",
       "      <th>0</th>\n",
       "      <td>High school statistics</td>\n",
       "      <td>Unit 1: Displaying a single quantitative variable</td>\n",
       "      <td>Frequency tables and dot plots</td>\n",
       "      <td>Frequency tables &amp; dot plots</td>\n",
       "      <td>Video</td>\n",
       "    </tr>\n",
       "    <tr>\n",
       "      <th>1</th>\n",
       "      <td>High school statistics</td>\n",
       "      <td>Unit 1: Displaying a single quantitative variable</td>\n",
       "      <td>Histograms</td>\n",
       "      <td>Creating a histogram</td>\n",
       "      <td>Video</td>\n",
       "    </tr>\n",
       "    <tr>\n",
       "      <th>2</th>\n",
       "      <td>High school statistics</td>\n",
       "      <td>Unit 1: Displaying a single quantitative variable</td>\n",
       "      <td>Histograms</td>\n",
       "      <td>Interpreting a histogram</td>\n",
       "      <td>Video</td>\n",
       "    </tr>\n",
       "    <tr>\n",
       "      <th>3</th>\n",
       "      <td>High school statistics</td>\n",
       "      <td>Unit 1: Displaying a single quantitative variable</td>\n",
       "      <td>Mean and median in data displays</td>\n",
       "      <td>Statistics intro: Mean, median, &amp; mode</td>\n",
       "      <td>Video</td>\n",
       "    </tr>\n",
       "    <tr>\n",
       "      <th>4</th>\n",
       "      <td>High school statistics</td>\n",
       "      <td>Unit 1: Displaying a single quantitative variable</td>\n",
       "      <td>Mean and median in data displays</td>\n",
       "      <td>Median in a histogram</td>\n",
       "      <td>Video</td>\n",
       "    </tr>\n",
       "  </tbody>\n",
       "</table>\n",
       "</div>"
      ],
      "text/plain": [
       "                  subject                                               unit  \\\n",
       "0  High school statistics  Unit 1: Displaying a single quantitative variable   \n",
       "1  High school statistics  Unit 1: Displaying a single quantitative variable   \n",
       "2  High school statistics  Unit 1: Displaying a single quantitative variable   \n",
       "3  High school statistics  Unit 1: Displaying a single quantitative variable   \n",
       "4  High school statistics  Unit 1: Displaying a single quantitative variable   \n",
       "\n",
       "                              group                                  lesson  \\\n",
       "0    Frequency tables and dot plots            Frequency tables & dot plots   \n",
       "1                        Histograms                    Creating a histogram   \n",
       "2                        Histograms                Interpreting a histogram   \n",
       "3  Mean and median in data displays  Statistics intro: Mean, median, & mode   \n",
       "4  Mean and median in data displays                   Median in a histogram   \n",
       "\n",
       "  lesson_type  \n",
       "0       Video  \n",
       "1       Video  \n",
       "2       Video  \n",
       "3       Video  \n",
       "4       Video  "
      ]
     },
     "execution_count": 73,
     "metadata": {},
     "output_type": "execute_result"
    }
   ],
   "source": [
    "# Connect to MongoDB and load lessons collection into Pandas Dataframe\n",
    "\n",
    "client = pymongo.MongoClient('mongodb://localhost:27017/')\n",
    "db = client['khan-academy']\n",
    "\n",
    "# Lessons collection\n",
    "colLessons = db[\"lessons\"]\n",
    "\n",
    "query = { 'subject': subject, 'lesson_type': \"Article\", 'lesson_type': \"Video\" }\n",
    "# query = { 'subject': subject, 'lesson_type': { $in: [\"Video\", \"Article\"] } }\n",
    "# { $in: [ \"ALGOL\", \"Lisp\" ]} \n",
    "# columns = {'_id': 0, 'unit_sequence': 0, 'lesson_type': 0, 'lesson_link': 0 }\n",
    "columns = {'_id': 0, 'unit_sequence': 0, 'lesson_link': 0 }\n",
    "\n",
    "\n",
    "# Ver\n",
    "# https://www.mongodb.com/docs/manual/reference/method/db.collection.find/\n",
    "\n",
    "\n",
    "\n",
    "# lessons = colLessons.find(query, columns)\n",
    "lessons = db.lessons.find(query, columns)\n",
    "\n",
    "list_lessons = list(lessons)\n",
    "df = pd.DataFrame(list_lessons)\n",
    "\n",
    "df.head()"
   ]
  },
  {
   "cell_type": "code",
   "execution_count": 68,
   "metadata": {},
   "outputs": [
    {
     "data": {
      "text/plain": [
       "RangeIndex(start=0, stop=99, step=1)"
      ]
     },
     "execution_count": 68,
     "metadata": {},
     "output_type": "execute_result"
    }
   ],
   "source": [
    "df.index"
   ]
  },
  {
   "cell_type": "code",
   "execution_count": null,
   "metadata": {},
   "outputs": [],
   "source": [
    "# https://towardsdatascience.com/10-python-pandas-tricks-to-make-data-analysis-more-enjoyable-cb8f55af8c30\n",
    "# https://pandas.pydata.org/docs/user_guide/style.html\n",
    "\n",
    "# df.head(20).style.set_table_styles(\n",
    "# [{'selector': 'th',\n",
    "#   'props': [('background', '#7CAE00'), \n",
    "#             ('color', 'white'),\n",
    "#             ('font-family', 'verdana')]},\n",
    " \n",
    "#  {'selector': 'td',\n",
    "#   'props': [('font-family', 'verdana')]},\n",
    "\n",
    "#  {'selector': 'tr:nth-of-type(odd)',\n",
    "#   'props': [('background', '#DCDCDC')]}, \n",
    " \n",
    "#  {'selector': 'tr:nth-of-type(even)',\n",
    "#   'props': [('background', 'white')]},\n",
    " \n",
    "# ]\n",
    "# ).hide(axis=\"index\")"
   ]
  }
 ],
 "metadata": {
  "kernelspec": {
   "display_name": "Python 3.10.5 ('env': venv)",
   "language": "python",
   "name": "python3"
  },
  "language_info": {
   "codemirror_mode": {
    "name": "ipython",
    "version": 3
   },
   "file_extension": ".py",
   "mimetype": "text/x-python",
   "name": "python",
   "nbconvert_exporter": "python",
   "pygments_lexer": "ipython3",
   "version": "3.11.4"
  },
  "orig_nbformat": 4,
  "vscode": {
   "interpreter": {
    "hash": "9add4c6002839da226ecc3062e4a9f777b3e885750cd9e17f9cc95cb2935743b"
   }
  }
 },
 "nbformat": 4,
 "nbformat_minor": 2
}
