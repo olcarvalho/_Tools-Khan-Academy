{
 "cells": [
  {
   "attachments": {},
   "cell_type": "markdown",
   "metadata": {},
   "source": [
    "## Read Khan Academy Lessons Mongo Collection and generate Word Templates"
   ]
  },
  {
   "cell_type": "code",
   "execution_count": 26,
   "metadata": {},
   "outputs": [],
   "source": [
    "import os\n",
    "import pymongo\n",
    "import pandas as pd\n",
    "import re\n",
    "import docx"
   ]
  },
  {
   "cell_type": "code",
   "execution_count": 7,
   "metadata": {},
   "outputs": [],
   "source": [
    "# Script Variables\n",
    "\n",
    "subject = 'High school statistics'\n",
    "# subject = 'Statistics and probability'\n",
    "# subject = 'AP®︎/College Statistics'\n",
    "\n",
    "# Target directory\n",
    "root_dir = 'd:\\\\Primeway\\\\Treinamento\\\\Data Science & AI\\\\Statistics'\n",
    "\n"
   ]
  },
  {
   "cell_type": "code",
   "execution_count": 3,
   "metadata": {},
   "outputs": [
    {
     "data": {
      "text/html": [
       "<div>\n",
       "<style scoped>\n",
       "    .dataframe tbody tr th:only-of-type {\n",
       "        vertical-align: middle;\n",
       "    }\n",
       "\n",
       "    .dataframe tbody tr th {\n",
       "        vertical-align: top;\n",
       "    }\n",
       "\n",
       "    .dataframe thead th {\n",
       "        text-align: right;\n",
       "    }\n",
       "</style>\n",
       "<table border=\"1\" class=\"dataframe\">\n",
       "  <thead>\n",
       "    <tr style=\"text-align: right;\">\n",
       "      <th></th>\n",
       "      <th>subject</th>\n",
       "      <th>unit</th>\n",
       "      <th>group</th>\n",
       "      <th>lesson</th>\n",
       "    </tr>\n",
       "  </thead>\n",
       "  <tbody>\n",
       "    <tr>\n",
       "      <th>0</th>\n",
       "      <td>High school statistics</td>\n",
       "      <td>Unit 1: Displaying a single quantitative variable</td>\n",
       "      <td>Frequency tables and dot plots</td>\n",
       "      <td>Frequency tables &amp; dot plots</td>\n",
       "    </tr>\n",
       "    <tr>\n",
       "      <th>1</th>\n",
       "      <td>High school statistics</td>\n",
       "      <td>Unit 1: Displaying a single quantitative variable</td>\n",
       "      <td>Histograms</td>\n",
       "      <td>Creating a histogram</td>\n",
       "    </tr>\n",
       "    <tr>\n",
       "      <th>2</th>\n",
       "      <td>High school statistics</td>\n",
       "      <td>Unit 1: Displaying a single quantitative variable</td>\n",
       "      <td>Histograms</td>\n",
       "      <td>Interpreting a histogram</td>\n",
       "    </tr>\n",
       "    <tr>\n",
       "      <th>3</th>\n",
       "      <td>High school statistics</td>\n",
       "      <td>Unit 1: Displaying a single quantitative variable</td>\n",
       "      <td>Mean and median in data displays</td>\n",
       "      <td>Statistics intro: Mean, median, &amp; mode</td>\n",
       "    </tr>\n",
       "    <tr>\n",
       "      <th>4</th>\n",
       "      <td>High school statistics</td>\n",
       "      <td>Unit 1: Displaying a single quantitative variable</td>\n",
       "      <td>Mean and median in data displays</td>\n",
       "      <td>Median in a histogram</td>\n",
       "    </tr>\n",
       "  </tbody>\n",
       "</table>\n",
       "</div>"
      ],
      "text/plain": [
       "                  subject                                               unit  \\\n",
       "0  High school statistics  Unit 1: Displaying a single quantitative variable   \n",
       "1  High school statistics  Unit 1: Displaying a single quantitative variable   \n",
       "2  High school statistics  Unit 1: Displaying a single quantitative variable   \n",
       "3  High school statistics  Unit 1: Displaying a single quantitative variable   \n",
       "4  High school statistics  Unit 1: Displaying a single quantitative variable   \n",
       "\n",
       "                              group                                  lesson  \n",
       "0    Frequency tables and dot plots            Frequency tables & dot plots  \n",
       "1                        Histograms                    Creating a histogram  \n",
       "2                        Histograms                Interpreting a histogram  \n",
       "3  Mean and median in data displays  Statistics intro: Mean, median, & mode  \n",
       "4  Mean and median in data displays                   Median in a histogram  "
      ]
     },
     "execution_count": 3,
     "metadata": {},
     "output_type": "execute_result"
    }
   ],
   "source": [
    "# Connect to MongoDB and load lessons collection into Pandas Dataframe\n",
    "\n",
    "client = pymongo.MongoClient('mongodb://localhost:27017/')\n",
    "db = client['khan-academy']\n",
    "\n",
    "query = { 'subject': subject, 'lesson_type': { \"$in\": [ \"Article\", \"Video\" ] } }\n",
    "columns = {'_id': 0, 'unit_sequence': 0, 'lesson_type': 0, 'lesson_link': 0 }\n",
    "\n",
    "lessons = db.lessons.find(query, columns)\n",
    "\n",
    "list_lessons = list(lessons)\n",
    "df = pd.DataFrame(list_lessons)\n",
    "\n",
    "df.head()"
   ]
  },
  {
   "cell_type": "code",
   "execution_count": 4,
   "metadata": {},
   "outputs": [
    {
     "data": {
      "text/plain": [
       "RangeIndex(start=0, stop=112, step=1)"
      ]
     },
     "execution_count": 4,
     "metadata": {},
     "output_type": "execute_result"
    }
   ],
   "source": [
    "df.index"
   ]
  },
  {
   "cell_type": "code",
   "execution_count": 17,
   "metadata": {},
   "outputs": [
    {
     "data": {
      "text/plain": [
       "'d:\\\\Primeway\\\\Treinamento\\\\Data Science & AI\\\\Statistics\\\\High school statistics'"
      ]
     },
     "execution_count": 17,
     "metadata": {},
     "output_type": "execute_result"
    }
   ],
   "source": [
    "# Create target directory\n",
    "\n",
    "os.chdir(root_dir)\n",
    "parent_dir = os.getcwd()\n",
    "\n",
    "path = os.path.join(parent_dir, subject)\n",
    "# print(path)\n",
    "\n",
    "# Create the directory\n",
    "if not os.path.isdir(path):\n",
    "   os.mkdir(path)\n",
    "\n",
    "os.chdir(path)\n",
    "os.getcwd()"
   ]
  },
  {
   "cell_type": "code",
   "execution_count": 23,
   "metadata": {},
   "outputs": [],
   "source": [
    "# Create file test\n",
    "\n",
    "filename = 'teste.txt'\n",
    "\n",
    "with open(filename, 'w') as f:\n",
    "    f.write('oscar')\n",
    "\n",
    "f.close()"
   ]
  },
  {
   "cell_type": "code",
   "execution_count": 21,
   "metadata": {},
   "outputs": [],
   "source": []
  },
  {
   "cell_type": "code",
   "execution_count": 24,
   "metadata": {},
   "outputs": [],
   "source": [
    "document = Document()\n",
    "\n",
    "document.add_heading('Document Title', 0)\n",
    "\n",
    "p = document.add_paragraph('A plain paragraph having some ')\n",
    "p.add_run('bold').bold = True\n",
    "p.add_run(' and some ')\n",
    "p.add_run('italic.').italic = True\n",
    "\n",
    "document.add_heading('Heading, level 1', level=1)\n",
    "document.add_paragraph('Intense quote', style='Intense Quote')\n",
    "\n",
    "document.add_paragraph(\n",
    "    'first item in unordered list', style='List Bullet'\n",
    ")\n",
    "document.add_paragraph(\n",
    "    'first item in ordered list', style='List Number'\n",
    ")\n",
    "\n",
    "document.add_page_break()\n",
    "\n",
    "document.save('demo.docx')"
   ]
  },
  {
   "cell_type": "code",
   "execution_count": null,
   "metadata": {},
   "outputs": [],
   "source": [
    "# https://towardsdatascience.com/10-python-pandas-tricks-to-make-data-analysis-more-enjoyable-cb8f55af8c30\n",
    "# https://pandas.pydata.org/docs/user_guide/style.html\n",
    "\n",
    "# df.head(20).style.set_table_styles(\n",
    "# [{'selector': 'th',\n",
    "#   'props': [('background', '#7CAE00'), \n",
    "#             ('color', 'white'),\n",
    "#             ('font-family', 'verdana')]},\n",
    " \n",
    "#  {'selector': 'td',\n",
    "#   'props': [('font-family', 'verdana')]},\n",
    "\n",
    "#  {'selector': 'tr:nth-of-type(odd)',\n",
    "#   'props': [('background', '#DCDCDC')]}, \n",
    " \n",
    "#  {'selector': 'tr:nth-of-type(even)',\n",
    "#   'props': [('background', 'white')]},\n",
    " \n",
    "# ]\n",
    "# ).hide(axis=\"index\")"
   ]
  }
 ],
 "metadata": {
  "kernelspec": {
   "display_name": "Python 3.10.5 ('env': venv)",
   "language": "python",
   "name": "python3"
  },
  "language_info": {
   "codemirror_mode": {
    "name": "ipython",
    "version": 3
   },
   "file_extension": ".py",
   "mimetype": "text/x-python",
   "name": "python",
   "nbconvert_exporter": "python",
   "pygments_lexer": "ipython3",
   "version": "3.11.4"
  },
  "orig_nbformat": 4,
  "vscode": {
   "interpreter": {
    "hash": "9add4c6002839da226ecc3062e4a9f777b3e885750cd9e17f9cc95cb2935743b"
   }
  }
 },
 "nbformat": 4,
 "nbformat_minor": 2
}
