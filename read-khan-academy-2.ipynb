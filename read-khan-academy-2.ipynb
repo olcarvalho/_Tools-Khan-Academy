{
 "cells": [
  {
   "attachments": {},
   "cell_type": "markdown",
   "metadata": {},
   "source": [
    "## Read Khan Academy Lessons Mongo Collection and generate Word Templates"
   ]
  },
  {
   "cell_type": "code",
   "execution_count": 1,
   "metadata": {},
   "outputs": [],
   "source": [
    "import os\n",
    "import pymongo\n",
    "import pandas as pd\n",
    "import re\n",
    "import docx\n",
    "from docx.shared import Pt\n",
    "from docx.shared import RGBColor\n",
    "from docx.oxml.ns import qn"
   ]
  },
  {
   "cell_type": "code",
   "execution_count": 2,
   "metadata": {},
   "outputs": [],
   "source": [
    "# Script Variables\n",
    "\n",
    "# subject = 'High school statistics'\n",
    "# subject = 'Statistics and probability'\n",
    "subject = 'AP®︎/College Statistics'\n",
    "\n",
    "# Target directory\n",
    "root_dir = 'd:\\\\Primeway\\\\Treinamento\\\\Data Science & AI\\\\Statistics'\n",
    "\n"
   ]
  },
  {
   "cell_type": "code",
   "execution_count": 3,
   "metadata": {},
   "outputs": [
    {
     "data": {
      "text/html": [
       "<div>\n",
       "<style scoped>\n",
       "    .dataframe tbody tr th:only-of-type {\n",
       "        vertical-align: middle;\n",
       "    }\n",
       "\n",
       "    .dataframe tbody tr th {\n",
       "        vertical-align: top;\n",
       "    }\n",
       "\n",
       "    .dataframe thead th {\n",
       "        text-align: right;\n",
       "    }\n",
       "</style>\n",
       "<table border=\"1\" class=\"dataframe\">\n",
       "  <thead>\n",
       "    <tr style=\"text-align: right;\">\n",
       "      <th></th>\n",
       "      <th>unit</th>\n",
       "      <th>group</th>\n",
       "      <th>lesson</th>\n",
       "    </tr>\n",
       "  </thead>\n",
       "  <tbody>\n",
       "    <tr>\n",
       "      <th>252</th>\n",
       "      <td>Unit 13: Inference for quantitative data: slopes</td>\n",
       "      <td>Testing for the slope of a regression model</td>\n",
       "      <td>Using a P-value to make conclusions in a test ...</td>\n",
       "    </tr>\n",
       "    <tr>\n",
       "      <th>253</th>\n",
       "      <td>Unit 13: Inference for quantitative data: slopes</td>\n",
       "      <td>Testing for the slope of a regression model</td>\n",
       "      <td>Using a confidence interval to test slope</td>\n",
       "    </tr>\n",
       "    <tr>\n",
       "      <th>254</th>\n",
       "      <td>Unit 14: Prepare for the 2022 AP®︎ Statistics ...</td>\n",
       "      <td>Prepare for the exam</td>\n",
       "      <td>Significance test for a proportion free respon...</td>\n",
       "    </tr>\n",
       "    <tr>\n",
       "      <th>255</th>\n",
       "      <td>Unit 14: Prepare for the 2022 AP®︎ Statistics ...</td>\n",
       "      <td>Prepare for the exam</td>\n",
       "      <td>Significance test for a proportion free respon...</td>\n",
       "    </tr>\n",
       "    <tr>\n",
       "      <th>256</th>\n",
       "      <td>Unit 14: Prepare for the 2022 AP®︎ Statistics ...</td>\n",
       "      <td>Prepare for the exam</td>\n",
       "      <td>Free response example: Significance test for a...</td>\n",
       "    </tr>\n",
       "  </tbody>\n",
       "</table>\n",
       "</div>"
      ],
      "text/plain": [
       "                                                  unit  \\\n",
       "252   Unit 13: Inference for quantitative data: slopes   \n",
       "253   Unit 13: Inference for quantitative data: slopes   \n",
       "254  Unit 14: Prepare for the 2022 AP®︎ Statistics ...   \n",
       "255  Unit 14: Prepare for the 2022 AP®︎ Statistics ...   \n",
       "256  Unit 14: Prepare for the 2022 AP®︎ Statistics ...   \n",
       "\n",
       "                                           group  \\\n",
       "252  Testing for the slope of a regression model   \n",
       "253  Testing for the slope of a regression model   \n",
       "254                         Prepare for the exam   \n",
       "255                         Prepare for the exam   \n",
       "256                         Prepare for the exam   \n",
       "\n",
       "                                                lesson  \n",
       "252  Using a P-value to make conclusions in a test ...  \n",
       "253          Using a confidence interval to test slope  \n",
       "254  Significance test for a proportion free respon...  \n",
       "255  Significance test for a proportion free respon...  \n",
       "256  Free response example: Significance test for a...  "
      ]
     },
     "execution_count": 3,
     "metadata": {},
     "output_type": "execute_result"
    }
   ],
   "source": [
    "# Connect to MongoDB and load lessons collection into Pandas Dataframe\n",
    "\n",
    "client = pymongo.MongoClient('mongodb://localhost:27017/')\n",
    "db = client['khan-academy']\n",
    "\n",
    "query = { 'subject': subject, 'lesson_type': { \"$in\": [ \"Article\", \"Video\" ] } }\n",
    "columns = {'_id': 0, 'subject': 0, 'unit_sequence': 0, 'lesson_type': 0, 'lesson_link': 0 }\n",
    "\n",
    "lessons = db.lessons.find(query, columns)\n",
    "\n",
    "list_lessons = list(lessons)\n",
    "df = pd.DataFrame(list_lessons)\n",
    "\n",
    "df.tail()"
   ]
  },
  {
   "cell_type": "code",
   "execution_count": 4,
   "metadata": {},
   "outputs": [
    {
     "name": "stdout",
     "output_type": "stream",
     "text": [
      "771\n"
     ]
    }
   ],
   "source": [
    "df.index\n",
    "print(df.size)"
   ]
  },
  {
   "cell_type": "code",
   "execution_count": 5,
   "metadata": {},
   "outputs": [],
   "source": [
    "# Helper Functions\n",
    "\n",
    "# Prepare Word Document\n",
    "def prepare_document(unit):\n",
    "\n",
    "   # https://python-docx.readthedocs.io/en/latest/user/styles-using.html\n",
    "\n",
    "   document = docx.Document()\n",
    "\n",
    "   # Styling the Document\n",
    "\n",
    "   # Normal\n",
    "   style_normal = document.styles['Normal']\n",
    "   style_normal.font.name = 'Calibri'\n",
    "   style_normal.font.size = Pt(11)\n",
    "\n",
    "   # Title\n",
    "   style_title = document.styles['Title']\n",
    "   style_title.font.name = 'Calibri Light'\n",
    "   style_title.font.size = Pt(28)\n",
    "   style_title.font.color.rgb = RGBColor(0x00, 0x00, 0x00)\n",
    "   # https://stackoverflow.com/questions/60921603/how-do-i-change-heading-font-face-and-size-in-python-docx\n",
    "   rFonts = style_title.element.rPr.rFonts\n",
    "   rFonts.set(qn(\"w:asciiTheme\"), \"Calibri Light\")\n",
    "\n",
    "   # Heading 1\n",
    "   style_heading1 = document.styles['Heading 1']\n",
    "   style_heading1.font.name = 'Calibri Light'\n",
    "   style_heading1.font.bold = None\n",
    "   style_heading1.font.size = Pt(16)\n",
    "   style_heading1.font.color.rgb = RGBColor(0x2F, 0x54, 0x96)\n",
    "   rFonts = style_heading1.element.rPr.rFonts\n",
    "   rFonts.set(qn(\"w:asciiTheme\"), \"Calibri Light\")\n",
    "\n",
    "   # Heading 2\n",
    "   style_heading2 = document.styles['Heading 2']\n",
    "   style_heading2.font.name = 'Calibri Light'\n",
    "   style_heading2.font.bold = None\n",
    "   style_heading2.font.size = Pt(13)\n",
    "   style_heading2.font.color.rgb = RGBColor(0x2F, 0x54, 0x96)\n",
    "   rFonts = style_heading2.element.rPr.rFonts\n",
    "   rFonts.set(qn(\"w:asciiTheme\"), \"Calibri Light\")\n",
    "\n",
    "   # Generate the document content\n",
    "\n",
    "   document.add_heading(unit, 0)\n",
    "\n",
    "   return document\n",
    "\n",
    "# Sanitize filename and save document\n",
    "def save_document(document, unit):\n",
    "   filename = re.sub(r':',\" -\", unit)\n",
    "   filename = re.sub(r'[\\\\/*?\"<>|]',\"\", filename)\n",
    "   filename = filename + '.docx'\n",
    "\n",
    "   # Check if the file exists\n",
    "   path = os.path.join(os.getcwd(), filename)\n",
    "   # print(path)\n",
    "   if not os.path.isfile(path):\n",
    "      document.save(filename)\n",
    "\n",
    "   "
   ]
  },
  {
   "cell_type": "code",
   "execution_count": 8,
   "metadata": {},
   "outputs": [
    {
     "name": "stdout",
     "output_type": "stream",
     "text": [
      "d:\\Primeway\\Treinamento\\Data Science & AI\\Statistics\\AP®︎College Statistics\n"
     ]
    },
    {
     "data": {
      "text/plain": [
       "'d:\\\\Primeway\\\\Treinamento\\\\Data Science & AI\\\\Statistics\\\\AP®︎College Statistics'"
      ]
     },
     "execution_count": 8,
     "metadata": {},
     "output_type": "execute_result"
    }
   ],
   "source": [
    "# Create and/or move to target directory\n",
    "\n",
    "os.chdir(root_dir)\n",
    "parent_dir = os.getcwd()\n",
    "\n",
    "path = os.path.join(parent_dir, re.sub(r'[\\\\/*?\"<>|]',\"\", subject))\n",
    "print(path)\n",
    "\n",
    "# Create the directory\n",
    "if not os.path.isdir(path):\n",
    "   os.mkdir(path)\n",
    "\n",
    "os.chdir(path)\n",
    "os.getcwd()\n",
    "\n"
   ]
  },
  {
   "cell_type": "code",
   "execution_count": 9,
   "metadata": {},
   "outputs": [],
   "source": [
    "# Interact through Dataframe and save doc file\n",
    "\n",
    "df_length = len(df.index)\n",
    "\n",
    "for i in df.index:\n",
    "\n",
    "    # Nem unit\n",
    "    if i == 0 or df['unit'][i] != unit:          \n",
    "        unit = df['unit'][i]\n",
    "        document = prepare_document(re.sub(r':',\" -\", unit))\n",
    "        group = ''\n",
    "\n",
    "    # New Group\n",
    "    if df['group'][i] != group: \n",
    "        if group != '':\n",
    "            document.add_page_break()\n",
    "        document.add_heading(df['group'][i], level=1)\n",
    "        document.add_paragraph('', style='Normal') \n",
    "        group = df['group'][i]\n",
    "\n",
    "    document.add_heading(\"\\t\" + df['lesson'][i], level=2)\n",
    "    document.add_paragraph('\\t', style='Normal')\n",
    "    document.add_paragraph('\\t', style='Normal')\n",
    "    document.add_paragraph('\\t', style='Normal')\n",
    "\n",
    "    if (i == df_length-1) or (df['unit'][i+1] != unit):\n",
    "        save_document(document, unit)\n"
   ]
  }
 ],
 "metadata": {
  "kernelspec": {
   "display_name": "Python 3.10.5 ('env': venv)",
   "language": "python",
   "name": "python3"
  },
  "language_info": {
   "codemirror_mode": {
    "name": "ipython",
    "version": 3
   },
   "file_extension": ".py",
   "mimetype": "text/x-python",
   "name": "python",
   "nbconvert_exporter": "python",
   "pygments_lexer": "ipython3",
   "version": "3.11.4"
  },
  "orig_nbformat": 4,
  "vscode": {
   "interpreter": {
    "hash": "9add4c6002839da226ecc3062e4a9f777b3e885750cd9e17f9cc95cb2935743b"
   }
  }
 },
 "nbformat": 4,
 "nbformat_minor": 2
}
