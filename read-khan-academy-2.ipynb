{
 "cells": [
  {
   "attachments": {},
   "cell_type": "markdown",
   "metadata": {},
   "source": [
    "## Read Khan Academy Lessons Mongo Collection and generate Word Templates"
   ]
  },
  {
   "cell_type": "code",
   "execution_count": 1,
   "metadata": {},
   "outputs": [],
   "source": [
    "import os\n",
    "import pymongo\n",
    "import pandas as pd\n",
    "import re"
   ]
  },
  {
   "cell_type": "code",
   "execution_count": 2,
   "metadata": {},
   "outputs": [],
   "source": [
    "# Script Variables\n",
    "\n",
    "subject = 'High school statistics'\n",
    "# subject = 'Statistics and probability'\n",
    "# subject = 'AP®︎/College Statistics'\n"
   ]
  },
  {
   "cell_type": "code",
   "execution_count": 3,
   "metadata": {},
   "outputs": [
    {
     "name": "stdout",
     "output_type": "stream",
     "text": [
      "<class 'pymongo.cursor.Cursor'>\n"
     ]
    }
   ],
   "source": [
    "# Connect to MongoDB and load lessons collection\n",
    "\n",
    "client = pymongo.MongoClient('mongodb://localhost:27017/')\n",
    "db = client['khan-academy']\n",
    "\n",
    "# Lessons collection\n",
    "colLessons = db[\"lessons\"]\n",
    "\n",
    "query = { 'subject': subject }\n",
    "\n",
    "lessons = colLessons.find(query)\n",
    "\n",
    "\n",
    "print(type(lessons))\n"
   ]
  },
  {
   "cell_type": "code",
   "execution_count": 11,
   "metadata": {},
   "outputs": [],
   "source": [
    "# Make a query to the specific DB and Collection\n",
    "query = {}\n",
    "cursor = colLessons.find(query)\n",
    "\n",
    "# Expand the cursor and construct the DataFrame\n",
    "df =  pd.DataFrame(list(cursor))"
   ]
  }
 ],
 "metadata": {
  "kernelspec": {
   "display_name": "Python 3.10.5 ('env': venv)",
   "language": "python",
   "name": "python3"
  },
  "language_info": {
   "codemirror_mode": {
    "name": "ipython",
    "version": 3
   },
   "file_extension": ".py",
   "mimetype": "text/x-python",
   "name": "python",
   "nbconvert_exporter": "python",
   "pygments_lexer": "ipython3",
   "version": "3.11.4"
  },
  "orig_nbformat": 4,
  "vscode": {
   "interpreter": {
    "hash": "9add4c6002839da226ecc3062e4a9f777b3e885750cd9e17f9cc95cb2935743b"
   }
  }
 },
 "nbformat": 4,
 "nbformat_minor": 2
}
