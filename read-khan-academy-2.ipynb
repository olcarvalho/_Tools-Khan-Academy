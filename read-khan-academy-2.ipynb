{
 "cells": [
  {
   "attachments": {},
   "cell_type": "markdown",
   "metadata": {},
   "source": [
    "## Read Khan Academy Lessons Mongo Collection and generate Word Templates"
   ]
  },
  {
   "cell_type": "code",
   "execution_count": 1,
   "metadata": {},
   "outputs": [],
   "source": [
    "import os\n",
    "import pymongo\n",
    "import pandas as pd\n",
    "import re\n",
    "import docx\n",
    "from docx.shared import Pt\n",
    "from docx.shared import RGBColor\n",
    "from docx.oxml.ns import qn"
   ]
  },
  {
   "cell_type": "code",
   "execution_count": 2,
   "metadata": {},
   "outputs": [],
   "source": [
    "# Script Variables\n",
    "\n",
    "subject = 'High school statistics'\n",
    "# subject = 'Statistics and probability'\n",
    "# subject = 'AP®︎/College Statistics'\n",
    "\n",
    "# Target directory\n",
    "root_dir = 'd:\\\\Primeway\\\\Treinamento\\\\Data Science & AI\\\\Statistics'\n",
    "\n"
   ]
  },
  {
   "cell_type": "code",
   "execution_count": 8,
   "metadata": {},
   "outputs": [
    {
     "data": {
      "text/html": [
       "<div>\n",
       "<style scoped>\n",
       "    .dataframe tbody tr th:only-of-type {\n",
       "        vertical-align: middle;\n",
       "    }\n",
       "\n",
       "    .dataframe tbody tr th {\n",
       "        vertical-align: top;\n",
       "    }\n",
       "\n",
       "    .dataframe thead th {\n",
       "        text-align: right;\n",
       "    }\n",
       "</style>\n",
       "<table border=\"1\" class=\"dataframe\">\n",
       "  <thead>\n",
       "    <tr style=\"text-align: right;\">\n",
       "      <th></th>\n",
       "      <th>unit</th>\n",
       "      <th>group</th>\n",
       "      <th>lesson</th>\n",
       "    </tr>\n",
       "  </thead>\n",
       "  <tbody>\n",
       "    <tr>\n",
       "      <th>0</th>\n",
       "      <td>Unit 1: Displaying a single quantitative variable</td>\n",
       "      <td>Frequency tables and dot plots</td>\n",
       "      <td>Frequency tables &amp; dot plots</td>\n",
       "    </tr>\n",
       "    <tr>\n",
       "      <th>1</th>\n",
       "      <td>Unit 1: Displaying a single quantitative variable</td>\n",
       "      <td>Histograms</td>\n",
       "      <td>Creating a histogram</td>\n",
       "    </tr>\n",
       "    <tr>\n",
       "      <th>2</th>\n",
       "      <td>Unit 1: Displaying a single quantitative variable</td>\n",
       "      <td>Histograms</td>\n",
       "      <td>Interpreting a histogram</td>\n",
       "    </tr>\n",
       "    <tr>\n",
       "      <th>3</th>\n",
       "      <td>Unit 1: Displaying a single quantitative variable</td>\n",
       "      <td>Mean and median in data displays</td>\n",
       "      <td>Statistics intro: Mean, median, &amp; mode</td>\n",
       "    </tr>\n",
       "    <tr>\n",
       "      <th>4</th>\n",
       "      <td>Unit 1: Displaying a single quantitative variable</td>\n",
       "      <td>Mean and median in data displays</td>\n",
       "      <td>Median in a histogram</td>\n",
       "    </tr>\n",
       "  </tbody>\n",
       "</table>\n",
       "</div>"
      ],
      "text/plain": [
       "                                                unit  \\\n",
       "0  Unit 1: Displaying a single quantitative variable   \n",
       "1  Unit 1: Displaying a single quantitative variable   \n",
       "2  Unit 1: Displaying a single quantitative variable   \n",
       "3  Unit 1: Displaying a single quantitative variable   \n",
       "4  Unit 1: Displaying a single quantitative variable   \n",
       "\n",
       "                              group                                  lesson  \n",
       "0    Frequency tables and dot plots            Frequency tables & dot plots  \n",
       "1                        Histograms                    Creating a histogram  \n",
       "2                        Histograms                Interpreting a histogram  \n",
       "3  Mean and median in data displays  Statistics intro: Mean, median, & mode  \n",
       "4  Mean and median in data displays                   Median in a histogram  "
      ]
     },
     "execution_count": 8,
     "metadata": {},
     "output_type": "execute_result"
    }
   ],
   "source": [
    "# Connect to MongoDB and load lessons collection into Pandas Dataframe\n",
    "\n",
    "client = pymongo.MongoClient('mongodb://localhost:27017/')\n",
    "db = client['khan-academy']\n",
    "\n",
    "query = { 'subject': subject, 'lesson_type': { \"$in\": [ \"Article\", \"Video\" ] } }\n",
    "columns = {'_id': 0, 'subject': 0, 'unit_sequence': 0, 'lesson_type': 0, 'lesson_link': 0 }\n",
    "\n",
    "lessons = db.lessons.find(query, columns)\n",
    "\n",
    "list_lessons = list(lessons)\n",
    "df = pd.DataFrame(list_lessons)\n",
    "\n",
    "df.head()"
   ]
  },
  {
   "cell_type": "code",
   "execution_count": 4,
   "metadata": {},
   "outputs": [
    {
     "data": {
      "text/plain": [
       "RangeIndex(start=0, stop=112, step=1)"
      ]
     },
     "execution_count": 4,
     "metadata": {},
     "output_type": "execute_result"
    }
   ],
   "source": [
    "df.index"
   ]
  },
  {
   "cell_type": "code",
   "execution_count": 15,
   "metadata": {},
   "outputs": [],
   "source": [
    "# Prepare Word Document\n",
    "\n",
    "def prepare_document(unit):\n",
    "\n",
    "   # https://python-docx.readthedocs.io/en/latest/user/styles-using.html\n",
    "\n",
    "   document = docx.Document()\n",
    "\n",
    "   # Styling the Document\n",
    "\n",
    "   # Normal\n",
    "   style_normal = document.styles['Normal']\n",
    "   style_normal.font.name = 'Calibri'\n",
    "   style_normal.font.size = Pt(11)\n",
    "\n",
    "   # Title\n",
    "   style_title = document.styles['Title']\n",
    "   style_title.font.name = 'Calibri Light'\n",
    "   style_title.font.size = Pt(28)\n",
    "   style_title.font.color.rgb = RGBColor(0x00, 0x00, 0x00)\n",
    "   # https://stackoverflow.com/questions/60921603/how-do-i-change-heading-font-face-and-size-in-python-docx\n",
    "   rFonts = style_title.element.rPr.rFonts\n",
    "   rFonts.set(qn(\"w:asciiTheme\"), \"Calibri Light\")\n",
    "\n",
    "   # Heading 1\n",
    "   style_heading1 = document.styles['Heading 1']\n",
    "   style_heading1.font.name = 'Calibri Light'\n",
    "   style_heading1.font.bold = None\n",
    "   style_heading1.font.size = Pt(16)\n",
    "   style_heading1.font.color.rgb = RGBColor(0x2F, 0x54, 0x96)\n",
    "   rFonts = style_heading1.element.rPr.rFonts\n",
    "   rFonts.set(qn(\"w:asciiTheme\"), \"Calibri Light\")\n",
    "\n",
    "   # Heading 2\n",
    "   style_heading2 = document.styles['Heading 2']\n",
    "   style_heading2.font.name = 'Calibri Light'\n",
    "   style_heading2.font.bold = None\n",
    "   style_heading2.font.size = Pt(13)\n",
    "   style_heading2.font.color.rgb = RGBColor(0x2F, 0x54, 0x96)\n",
    "   rFonts = style_heading2.element.rPr.rFonts\n",
    "   rFonts.set(qn(\"w:asciiTheme\"), \"Calibri Light\")\n",
    "\n",
    "   # Generate the document content\n",
    "\n",
    "   document.add_heading(unit, 0)\n",
    "\n",
    "   return document"
   ]
  },
  {
   "cell_type": "code",
   "execution_count": 32,
   "metadata": {},
   "outputs": [
    {
     "name": "stdout",
     "output_type": "stream",
     "text": [
      "d:\\Primeway\\Treinamento\\Data Science & AI\\Statistics\\High school statistics\n"
     ]
    },
    {
     "data": {
      "text/plain": [
       "'d:\\\\Primeway\\\\Treinamento\\\\Data Science & AI\\\\Statistics\\\\High school statistics'"
      ]
     },
     "execution_count": 32,
     "metadata": {},
     "output_type": "execute_result"
    }
   ],
   "source": [
    "# Create target directory\n",
    "\n",
    "os.chdir(root_dir)\n",
    "parent_dir = os.getcwd()\n",
    "\n",
    "path = os.path.join(parent_dir, subject)\n",
    "print(path)\n",
    "\n",
    "# Create the directory\n",
    "if not os.path.isdir(path):\n",
    "   os.mkdir(path)\n",
    "\n",
    "os.chdir(path)\n",
    "os.getcwd()\n",
    "\n"
   ]
  },
  {
   "cell_type": "code",
   "execution_count": 36,
   "metadata": {},
   "outputs": [],
   "source": [
    "# Interact through Dataframe and save doc file\n",
    "\n",
    "unit = ''\n",
    "\n",
    "for i in df.index:\n",
    "\n",
    "    if df['unit'][i] != unit:\n",
    "        # Sanitize filename and save document\n",
    "        if unit != '':\n",
    "            filename = re.sub(r':',\" -\", unit)\n",
    "            filename = re.sub(r'[\\\\/*?\"<>|]',\"\", filename)\n",
    "            # Check out if the file exists\n",
    "            path = os.path.join(os.getcwd(), filename)\n",
    "            if os.path.isfile(path):\n",
    "                document.save(filename + '.docx')\n",
    "        # Nem unit\n",
    "        unit = df['unit'][i]\n",
    "        document = prepare_document(re.sub(r':',\" -\", unit))\n",
    "        group = ''\n",
    "\n",
    "    if df['group'][i] != group: \n",
    "        if group != '':\n",
    "            document.add_page_break()\n",
    "        document.add_heading(df['group'][i], level=1)\n",
    "        document.add_paragraph('', style='Normal') \n",
    "        group = df['group'][i]\n",
    "\n",
    "    document.add_heading(\"\\t\" + df['lesson'][i], level=2)\n",
    "    document.add_paragraph('\\t', style='Normal')\n",
    "    document.add_paragraph('\\t', style='Normal')\n",
    "    document.add_paragraph('\\t', style='Normal')\n"
   ]
  }
 ],
 "metadata": {
  "kernelspec": {
   "display_name": "Python 3.10.5 ('env': venv)",
   "language": "python",
   "name": "python3"
  },
  "language_info": {
   "codemirror_mode": {
    "name": "ipython",
    "version": 3
   },
   "file_extension": ".py",
   "mimetype": "text/x-python",
   "name": "python",
   "nbconvert_exporter": "python",
   "pygments_lexer": "ipython3",
   "version": "3.11.4"
  },
  "orig_nbformat": 4,
  "vscode": {
   "interpreter": {
    "hash": "9add4c6002839da226ecc3062e4a9f777b3e885750cd9e17f9cc95cb2935743b"
   }
  }
 },
 "nbformat": 4,
 "nbformat_minor": 2
}
